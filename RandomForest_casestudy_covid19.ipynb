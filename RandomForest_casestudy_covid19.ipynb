{
 "cells": [
  {
   "cell_type": "markdown",
   "metadata": {
    "colab_type": "text",
    "id": "EvpyI0E7SpNT"
   },
   "source": [
    "## Random Forest\n",
    "\n",
    "Random Forest is an ensemble of Decision Trees. With a few exceptions, a `RandomForestClassifier` has all the hyperparameters of a `DecisionTreeClassifier` (to control how trees are grown), plus all the hyperparameters of a `BaggingClassifier` to control the ensemble itself.\n",
    "\n",
    "The Random Forest algorithm introduces extra randomness when growing trees; instead of searching for the very best feature when splitting a node, it searches for the best feature among a random subset of features. This results in a greater tree diversity, which (once again) trades a higher bias for a lower variance, generally yielding an overall better model. The following `BaggingClassifier` is roughly equivalent to the previous `RandomForestClassifier`. Run the cell below to visualize a single estimator from a random forest model, using the Iris dataset to classify the data into the appropriate species."
   ]
  },
  {
   "cell_type": "code",
   "execution_count": 4,
   "metadata": {
    "colab": {
     "base_uri": "https://localhost:8080/",
     "height": 1000,
     "output_embedded_package_id": "1NIbktS4yyfVlE2Y4bXMargRbQgbdWTFh"
    },
    "colab_type": "code",
    "executionInfo": {
     "elapsed": 7579,
     "status": "ok",
     "timestamp": 1592213046926,
     "user": {
      "displayName": "Andrew Maguire",
      "photoUrl": "https://lh3.googleusercontent.com/a-/AOh14GjaIpd1sqQPWOc9NJXtyl5fYSonikxEZgshlvloAYk=s64",
      "userId": "13447906511017779027"
     },
     "user_tz": -60
    },
    "id": "z_-6xEUFSpNU",
    "outputId": "75184be3-e99c-4c44-a638-824a9ba0b1e9"
   },
   "outputs": [],
   "source": [
    "from sklearn.datasets import load_iris\n",
    "iris = load_iris()\n",
    "\n",
    "# Model (can also use single decision tree)\n",
    "from sklearn.ensemble import RandomForestClassifier\n",
    "model = RandomForestClassifier(n_estimators=10)\n",
    "\n",
    "# Train\n",
    "model.fit(iris.data, iris.target)\n",
    "# Extract single tree\n",
    "estimator = model.estimators_[5]\n",
    "\n",
    "from sklearn.tree import export_graphviz\n",
    "# Export as dot file\n",
    "export_graphviz(estimator, out_file='tree.dot', \n",
    "                feature_names = iris.feature_names,\n",
    "                class_names = iris.target_names,\n",
    "                rounded = True, proportion = False, \n",
    "                precision = 2, filled = True)\n",
    "\n",
    "# Convert to png using system command (requires Graphviz)\n",
    "from subprocess import call\n",
    "call(['dot', '-Tpng', 'tree.dot', '-o', 'tree.png', '-Gdpi=600'])\n",
    "\n",
    "# Display in jupyter notebook\n",
    "from IPython.display import Image\n",
    "# Image(filename = 'tree.png')"
   ]
  },
  {
   "cell_type": "markdown",
   "metadata": {
    "colab_type": "text",
    "id": "VSnWoCRUSpNY"
   },
   "source": [
    "Notice how each split seperates the data into buckets of similar observations. This is a single tree and a relatively simple classification dataset, but the same method is used in a more complex dataset with greater depth to the trees."
   ]
  },
  {
   "cell_type": "markdown",
   "metadata": {
    "colab_type": "text",
    "id": "tJ2aGPMZB5X8"
   },
   "source": [
    "## Coronavirus\n",
    "Coronavirus disease (COVID-19) is an infectious disease caused by a new virus.\n",
    "The disease causes respiratory illness (like the flu) with symptoms such as a cough, fever, and in more severe cases, difficulty breathing. You can protect yourself by washing your hands frequently, avoiding touching your face, and avoiding close contact (1 meter or 3 feet) with people who are unwell. An outbreak of COVID-19 started in December 2019 and at the time of the creation of this project was continuing to spread throughout the world. Many governments recommended only essential outings to public places and closed most business that do not serve food or sell essential items. An excellent [spatial dashboard](https://www.arcgis.com/apps/opsdashboard/index.html#/bda7594740fd40299423467b48e9ecf6) built by Johns Hopkins shows the daily confirmed cases by country. \n",
    "\n",
    "This case study was designed to drive home the important role that data science plays in real-world situations like this pandemic. This case study uses the Random Forest Classifier and a dataset from the South Korean cases of COVID-19 provided on [Kaggle](https://www.kaggle.com/kimjihoo/coronavirusdataset) to encourage research on this important topic. The goal of the case study is to build a Random Forest Classifier to predict the 'state' of the patient."
   ]
  },
  {
   "cell_type": "markdown",
   "metadata": {
    "colab_type": "text",
    "id": "7PrMkSjBQEMZ"
   },
   "source": [
    "First, please load the needed packages and modules into Python. Next, load the data into a pandas dataframe for ease of use."
   ]
  },
  {
   "cell_type": "code",
   "execution_count": 5,
   "metadata": {
    "colab": {},
    "colab_type": "code",
    "id": "X3EhD-LSB5YI"
   },
   "outputs": [],
   "source": [
    "import os\n",
    "import pandas as pd\n",
    "from datetime import datetime,timedelta\n",
    "import seaborn as sns\n",
    "import matplotlib.pyplot as plt\n",
    "import numpy as np\n",
    "%matplotlib inline\n",
    "import plotly.graph_objects as go\n",
    "from sklearn.experimental import enable_iterative_imputer\n",
    "from sklearn.impute import IterativeImputer\n",
    "from sklearn.ensemble import ExtraTreesRegressor"
   ]
  },
  {
   "cell_type": "code",
   "execution_count": 7,
   "metadata": {
    "colab": {},
    "colab_type": "code",
    "id": "CiJQlTK1SpNd"
   },
   "outputs": [
    {
     "data": {
      "text/html": [
       "<div>\n",
       "<style scoped>\n",
       "    .dataframe tbody tr th:only-of-type {\n",
       "        vertical-align: middle;\n",
       "    }\n",
       "\n",
       "    .dataframe tbody tr th {\n",
       "        vertical-align: top;\n",
       "    }\n",
       "\n",
       "    .dataframe thead th {\n",
       "        text-align: right;\n",
       "    }\n",
       "</style>\n",
       "<table border=\"1\" class=\"dataframe\">\n",
       "  <thead>\n",
       "    <tr style=\"text-align: right;\">\n",
       "      <th></th>\n",
       "      <th>patient_id</th>\n",
       "      <th>global_num</th>\n",
       "      <th>sex</th>\n",
       "      <th>birth_year</th>\n",
       "      <th>age</th>\n",
       "      <th>country</th>\n",
       "      <th>province</th>\n",
       "      <th>city</th>\n",
       "      <th>disease</th>\n",
       "      <th>infection_case</th>\n",
       "      <th>infection_order</th>\n",
       "      <th>infected_by</th>\n",
       "      <th>contact_number</th>\n",
       "      <th>symptom_onset_date</th>\n",
       "      <th>confirmed_date</th>\n",
       "      <th>released_date</th>\n",
       "      <th>deceased_date</th>\n",
       "      <th>state</th>\n",
       "    </tr>\n",
       "  </thead>\n",
       "  <tbody>\n",
       "    <tr>\n",
       "      <th>0</th>\n",
       "      <td>1000000001</td>\n",
       "      <td>2.0</td>\n",
       "      <td>male</td>\n",
       "      <td>1964.0</td>\n",
       "      <td>50s</td>\n",
       "      <td>Korea</td>\n",
       "      <td>Seoul</td>\n",
       "      <td>Gangseo-gu</td>\n",
       "      <td>NaN</td>\n",
       "      <td>overseas inflow</td>\n",
       "      <td>1.0</td>\n",
       "      <td>NaN</td>\n",
       "      <td>75.0</td>\n",
       "      <td>2020-01-22</td>\n",
       "      <td>2020-01-23</td>\n",
       "      <td>2020-02-05</td>\n",
       "      <td>NaN</td>\n",
       "      <td>released</td>\n",
       "    </tr>\n",
       "    <tr>\n",
       "      <th>1</th>\n",
       "      <td>1000000002</td>\n",
       "      <td>5.0</td>\n",
       "      <td>male</td>\n",
       "      <td>1987.0</td>\n",
       "      <td>30s</td>\n",
       "      <td>Korea</td>\n",
       "      <td>Seoul</td>\n",
       "      <td>Jungnang-gu</td>\n",
       "      <td>NaN</td>\n",
       "      <td>overseas inflow</td>\n",
       "      <td>1.0</td>\n",
       "      <td>NaN</td>\n",
       "      <td>31.0</td>\n",
       "      <td>NaN</td>\n",
       "      <td>2020-01-30</td>\n",
       "      <td>2020-03-02</td>\n",
       "      <td>NaN</td>\n",
       "      <td>released</td>\n",
       "    </tr>\n",
       "    <tr>\n",
       "      <th>2</th>\n",
       "      <td>1000000003</td>\n",
       "      <td>6.0</td>\n",
       "      <td>male</td>\n",
       "      <td>1964.0</td>\n",
       "      <td>50s</td>\n",
       "      <td>Korea</td>\n",
       "      <td>Seoul</td>\n",
       "      <td>Jongno-gu</td>\n",
       "      <td>NaN</td>\n",
       "      <td>contact with patient</td>\n",
       "      <td>2.0</td>\n",
       "      <td>2.002000e+09</td>\n",
       "      <td>17.0</td>\n",
       "      <td>NaN</td>\n",
       "      <td>2020-01-30</td>\n",
       "      <td>2020-02-19</td>\n",
       "      <td>NaN</td>\n",
       "      <td>released</td>\n",
       "    </tr>\n",
       "    <tr>\n",
       "      <th>3</th>\n",
       "      <td>1000000004</td>\n",
       "      <td>7.0</td>\n",
       "      <td>male</td>\n",
       "      <td>1991.0</td>\n",
       "      <td>20s</td>\n",
       "      <td>Korea</td>\n",
       "      <td>Seoul</td>\n",
       "      <td>Mapo-gu</td>\n",
       "      <td>NaN</td>\n",
       "      <td>overseas inflow</td>\n",
       "      <td>1.0</td>\n",
       "      <td>NaN</td>\n",
       "      <td>9.0</td>\n",
       "      <td>2020-01-26</td>\n",
       "      <td>2020-01-30</td>\n",
       "      <td>2020-02-15</td>\n",
       "      <td>NaN</td>\n",
       "      <td>released</td>\n",
       "    </tr>\n",
       "    <tr>\n",
       "      <th>4</th>\n",
       "      <td>1000000005</td>\n",
       "      <td>9.0</td>\n",
       "      <td>female</td>\n",
       "      <td>1992.0</td>\n",
       "      <td>20s</td>\n",
       "      <td>Korea</td>\n",
       "      <td>Seoul</td>\n",
       "      <td>Seongbuk-gu</td>\n",
       "      <td>NaN</td>\n",
       "      <td>contact with patient</td>\n",
       "      <td>2.0</td>\n",
       "      <td>1.000000e+09</td>\n",
       "      <td>2.0</td>\n",
       "      <td>NaN</td>\n",
       "      <td>2020-01-31</td>\n",
       "      <td>2020-02-24</td>\n",
       "      <td>NaN</td>\n",
       "      <td>released</td>\n",
       "    </tr>\n",
       "  </tbody>\n",
       "</table>\n",
       "</div>"
      ],
      "text/plain": [
       "   patient_id  global_num     sex  birth_year  age country province  \\\n",
       "0  1000000001         2.0    male      1964.0  50s   Korea    Seoul   \n",
       "1  1000000002         5.0    male      1987.0  30s   Korea    Seoul   \n",
       "2  1000000003         6.0    male      1964.0  50s   Korea    Seoul   \n",
       "3  1000000004         7.0    male      1991.0  20s   Korea    Seoul   \n",
       "4  1000000005         9.0  female      1992.0  20s   Korea    Seoul   \n",
       "\n",
       "          city disease        infection_case  infection_order   infected_by  \\\n",
       "0   Gangseo-gu     NaN       overseas inflow              1.0           NaN   \n",
       "1  Jungnang-gu     NaN       overseas inflow              1.0           NaN   \n",
       "2    Jongno-gu     NaN  contact with patient              2.0  2.002000e+09   \n",
       "3      Mapo-gu     NaN       overseas inflow              1.0           NaN   \n",
       "4  Seongbuk-gu     NaN  contact with patient              2.0  1.000000e+09   \n",
       "\n",
       "   contact_number symptom_onset_date confirmed_date released_date  \\\n",
       "0            75.0         2020-01-22     2020-01-23    2020-02-05   \n",
       "1            31.0                NaN     2020-01-30    2020-03-02   \n",
       "2            17.0                NaN     2020-01-30    2020-02-19   \n",
       "3             9.0         2020-01-26     2020-01-30    2020-02-15   \n",
       "4             2.0                NaN     2020-01-31    2020-02-24   \n",
       "\n",
       "  deceased_date     state  \n",
       "0           NaN  released  \n",
       "1           NaN  released  \n",
       "2           NaN  released  \n",
       "3           NaN  released  \n",
       "4           NaN  released  "
      ]
     },
     "execution_count": 7,
     "metadata": {},
     "output_type": "execute_result"
    }
   ],
   "source": [
    "url ='SouthKoreacoronavirusdataset/PatientInfo.csv'\n",
    "df = pd.read_csv(url)\n",
    "df.head()"
   ]
  },
  {
   "cell_type": "code",
   "execution_count": 8,
   "metadata": {
    "colab": {},
    "colab_type": "code",
    "id": "GUY5Cp2cSpNg"
   },
   "outputs": [
    {
     "data": {
      "text/plain": [
       "(2218, 18)"
      ]
     },
     "execution_count": 8,
     "metadata": {},
     "output_type": "execute_result"
    }
   ],
   "source": [
    "df.shape"
   ]
  },
  {
   "cell_type": "code",
   "execution_count": 9,
   "metadata": {
    "colab": {},
    "colab_type": "code",
    "id": "oxKUKR_pSpNi"
   },
   "outputs": [
    {
     "data": {
      "text/html": [
       "<div>\n",
       "<style scoped>\n",
       "    .dataframe tbody tr th:only-of-type {\n",
       "        vertical-align: middle;\n",
       "    }\n",
       "\n",
       "    .dataframe tbody tr th {\n",
       "        vertical-align: top;\n",
       "    }\n",
       "\n",
       "    .dataframe thead th {\n",
       "        text-align: right;\n",
       "    }\n",
       "</style>\n",
       "<table border=\"1\" class=\"dataframe\">\n",
       "  <thead>\n",
       "    <tr style=\"text-align: right;\">\n",
       "      <th></th>\n",
       "      <th>VarName</th>\n",
       "      <th>NullCount</th>\n",
       "    </tr>\n",
       "  </thead>\n",
       "  <tbody>\n",
       "    <tr>\n",
       "      <th>0</th>\n",
       "      <td>disease</td>\n",
       "      <td>2199</td>\n",
       "    </tr>\n",
       "    <tr>\n",
       "      <th>1</th>\n",
       "      <td>deceased_date</td>\n",
       "      <td>2186</td>\n",
       "    </tr>\n",
       "    <tr>\n",
       "      <th>2</th>\n",
       "      <td>infection_order</td>\n",
       "      <td>2176</td>\n",
       "    </tr>\n",
       "    <tr>\n",
       "      <th>3</th>\n",
       "      <td>symptom_onset_date</td>\n",
       "      <td>2025</td>\n",
       "    </tr>\n",
       "    <tr>\n",
       "      <th>4</th>\n",
       "      <td>released_date</td>\n",
       "      <td>1995</td>\n",
       "    </tr>\n",
       "    <tr>\n",
       "      <th>5</th>\n",
       "      <td>contact_number</td>\n",
       "      <td>1807</td>\n",
       "    </tr>\n",
       "    <tr>\n",
       "      <th>6</th>\n",
       "      <td>infected_by</td>\n",
       "      <td>1749</td>\n",
       "    </tr>\n",
       "    <tr>\n",
       "      <th>7</th>\n",
       "      <td>infection_case</td>\n",
       "      <td>1055</td>\n",
       "    </tr>\n",
       "    <tr>\n",
       "      <th>8</th>\n",
       "      <td>global_num</td>\n",
       "      <td>904</td>\n",
       "    </tr>\n",
       "    <tr>\n",
       "      <th>9</th>\n",
       "      <td>birth_year</td>\n",
       "      <td>454</td>\n",
       "    </tr>\n",
       "    <tr>\n",
       "      <th>10</th>\n",
       "      <td>age</td>\n",
       "      <td>261</td>\n",
       "    </tr>\n",
       "    <tr>\n",
       "      <th>11</th>\n",
       "      <td>sex</td>\n",
       "      <td>145</td>\n",
       "    </tr>\n",
       "    <tr>\n",
       "      <th>12</th>\n",
       "      <td>confirmed_date</td>\n",
       "      <td>141</td>\n",
       "    </tr>\n",
       "    <tr>\n",
       "      <th>13</th>\n",
       "      <td>state</td>\n",
       "      <td>88</td>\n",
       "    </tr>\n",
       "    <tr>\n",
       "      <th>14</th>\n",
       "      <td>city</td>\n",
       "      <td>65</td>\n",
       "    </tr>\n",
       "  </tbody>\n",
       "</table>\n",
       "</div>"
      ],
      "text/plain": [
       "               VarName  NullCount\n",
       "0              disease       2199\n",
       "1        deceased_date       2186\n",
       "2      infection_order       2176\n",
       "3   symptom_onset_date       2025\n",
       "4        released_date       1995\n",
       "5       contact_number       1807\n",
       "6          infected_by       1749\n",
       "7       infection_case       1055\n",
       "8           global_num        904\n",
       "9           birth_year        454\n",
       "10                 age        261\n",
       "11                 sex        145\n",
       "12      confirmed_date        141\n",
       "13               state         88\n",
       "14                city         65"
      ]
     },
     "execution_count": 9,
     "metadata": {},
     "output_type": "execute_result"
    }
   ],
   "source": [
    "#Counts of null values \n",
    "na_df=pd.DataFrame(df.isnull().sum().sort_values(ascending=False)).reset_index()\n",
    "na_df.columns = ['VarName', 'NullCount']\n",
    "na_df[(na_df['NullCount']>0)]"
   ]
  },
  {
   "cell_type": "code",
   "execution_count": 10,
   "metadata": {
    "colab": {},
    "colab_type": "code",
    "id": "NhPtmRWdSpNl"
   },
   "outputs": [
    {
     "data": {
      "text/plain": [
       "isolated    1791\n",
       "released     307\n",
       "deceased      32\n",
       "Name: state, dtype: int64"
      ]
     },
     "execution_count": 10,
     "metadata": {},
     "output_type": "execute_result"
    }
   ],
   "source": [
    "#counts of response variable values\n",
    "df.state.value_counts()"
   ]
  },
  {
   "cell_type": "markdown",
   "metadata": {
    "colab_type": "text",
    "id": "06e0gqMzSpNp"
   },
   "source": [
    " **<font color='teal'> Create a new column named 'n_age' which is the calculated age based on the birth year column.</font>**"
   ]
  },
  {
   "cell_type": "code",
   "execution_count": 11,
   "metadata": {
    "colab": {},
    "colab_type": "code",
    "id": "DVCW7LBRSpNp"
   },
   "outputs": [
    {
     "data": {
      "text/plain": [
       "0       56.0\n",
       "1       33.0\n",
       "2       56.0\n",
       "3       29.0\n",
       "4       28.0\n",
       "        ... \n",
       "2213    30.0\n",
       "2214    22.0\n",
       "2215    22.0\n",
       "2216    48.0\n",
       "2217    46.0\n",
       "Name: n_age, Length: 2218, dtype: float64"
      ]
     },
     "execution_count": 11,
     "metadata": {},
     "output_type": "execute_result"
    }
   ],
   "source": [
    "df['n_age']=2020- df['birth_year']\n",
    "df['n_age']"
   ]
  },
  {
   "cell_type": "markdown",
   "metadata": {
    "colab_type": "text",
    "id": "w9t91IzDSpNr"
   },
   "source": [
    "### Handle Missing Values"
   ]
  },
  {
   "cell_type": "markdown",
   "metadata": {
    "colab_type": "text",
    "id": "Fm1TjGDhSpNs"
   },
   "source": [
    " **<font color='teal'> Print the number of missing values by column.</font>**"
   ]
  },
  {
   "cell_type": "code",
   "execution_count": 12,
   "metadata": {
    "colab": {},
    "colab_type": "code",
    "id": "PAtr2t3rSpNs"
   },
   "outputs": [
    {
     "data": {
      "text/plain": [
       "patient_id               0\n",
       "global_num             904\n",
       "sex                    145\n",
       "birth_year             454\n",
       "age                    261\n",
       "country                  0\n",
       "province                 0\n",
       "city                    65\n",
       "disease               2199\n",
       "infection_case        1055\n",
       "infection_order       2176\n",
       "infected_by           1749\n",
       "contact_number        1807\n",
       "symptom_onset_date    2025\n",
       "confirmed_date         141\n",
       "released_date         1995\n",
       "deceased_date         2186\n",
       "state                   88\n",
       "n_age                  454\n",
       "dtype: int64"
      ]
     },
     "execution_count": 12,
     "metadata": {},
     "output_type": "execute_result"
    }
   ],
   "source": [
    "df.isnull().sum()"
   ]
  },
  {
   "cell_type": "code",
   "execution_count": 13,
   "metadata": {
    "colab": {},
    "colab_type": "code",
    "id": "I8B5cY19SpNu"
   },
   "outputs": [
    {
     "name": "stdout",
     "output_type": "stream",
     "text": [
      "<class 'pandas.core.frame.DataFrame'>\n",
      "RangeIndex: 2218 entries, 0 to 2217\n",
      "Data columns (total 19 columns):\n",
      "patient_id            2218 non-null int64\n",
      "global_num            1314 non-null float64\n",
      "sex                   2073 non-null object\n",
      "birth_year            1764 non-null float64\n",
      "age                   1957 non-null object\n",
      "country               2218 non-null object\n",
      "province              2218 non-null object\n",
      "city                  2153 non-null object\n",
      "disease               19 non-null object\n",
      "infection_case        1163 non-null object\n",
      "infection_order       42 non-null float64\n",
      "infected_by           469 non-null float64\n",
      "contact_number        411 non-null float64\n",
      "symptom_onset_date    193 non-null object\n",
      "confirmed_date        2077 non-null object\n",
      "released_date         223 non-null object\n",
      "deceased_date         32 non-null object\n",
      "state                 2130 non-null object\n",
      "n_age                 1764 non-null float64\n",
      "dtypes: float64(6), int64(1), object(12)\n",
      "memory usage: 329.4+ KB\n"
     ]
    }
   ],
   "source": [
    "df.info()"
   ]
  },
  {
   "cell_type": "markdown",
   "metadata": {
    "colab_type": "text",
    "id": "zjLpYG_ASpNw"
   },
   "source": [
    " **<font color='teal'> Fill the 'disease' missing values with 0 and remap the True values to 1.</font>**"
   ]
  },
  {
   "cell_type": "code",
   "execution_count": 17,
   "metadata": {
    "colab": {},
    "colab_type": "code",
    "id": "NHBtVW1ESpNx"
   },
   "outputs": [
    {
     "data": {
      "text/plain": [
       "array([0, 1], dtype=int64)"
      ]
     },
     "execution_count": 17,
     "metadata": {},
     "output_type": "execute_result"
    }
   ],
   "source": [
    "df[\"disease\"] = df[\"disease\"].fillna(0)\n",
    "df[\"disease\"] = df[\"disease\"].replace(True,1)\n",
    "df[\"disease\"].unique()"
   ]
  },
  {
   "cell_type": "markdown",
   "metadata": {
    "colab_type": "text",
    "id": "fZArBBUhSpNz"
   },
   "source": [
    " **<font color='teal'> Fill null values in the following columns with their mean: 'global_number','birth_year','infection_order','infected_by'and 'contact_number'</font>**"
   ]
  },
  {
   "cell_type": "code",
   "execution_count": 18,
   "metadata": {
    "colab": {},
    "colab_type": "code",
    "id": "zQdarDx_SpNz"
   },
   "outputs": [],
   "source": [
    "df['global_num'].fillna((df['global_num'].mean()), inplace=True)\n",
    "df['birth_year'].fillna((df['birth_year'].mean()), inplace=True)\n",
    "df['infection_order'].fillna((df['infection_order'].mean()), inplace=True)\n",
    "df['infected_by'].fillna((df['infected_by'].mean()), inplace=True)\n",
    "df['contact_number'].fillna((df['contact_number'].mean()), inplace=True)"
   ]
  },
  {
   "cell_type": "markdown",
   "metadata": {
    "colab_type": "text",
    "id": "Coy_jYEbSpN2"
   },
   "source": [
    " **<font color='teal'> Fill the rest of the missing values with any method.</font>**"
   ]
  },
  {
   "cell_type": "code",
   "execution_count": 19,
   "metadata": {
    "colab": {},
    "colab_type": "code",
    "id": "ATJ84cdDSpN2"
   },
   "outputs": [],
   "source": [
    "df['sex'].fillna((df['sex'].mode()[0]), inplace=True)\n",
    "df['age'].fillna((df['age'].mode()[0]), inplace=True)\n",
    "df['city'].fillna((df['city'].mode()[0]), inplace=True)\n",
    "df['infection_case'].fillna((df['infection_case'].mode()[0]), inplace=True)\n",
    "df['symptom_onset_date'].fillna((df['symptom_onset_date'].mode()[0]), inplace=True)\n",
    "df['confirmed_date'].fillna((df['confirmed_date'].mode()[0]), inplace=True)\n",
    "df['deceased_date'].fillna((df['deceased_date'].mode()[0]), inplace=True)\n",
    "df['state'].fillna((df['state'].mode()[0]), inplace=True)\n",
    "df['n_age'].fillna((df['n_age'].mode()[0]), inplace=True)"
   ]
  },
  {
   "cell_type": "markdown",
   "metadata": {
    "colab_type": "text",
    "id": "kGi4NkcbSpN4"
   },
   "source": [
    " **<font color='teal'> Check for any remaining null values.</font>**"
   ]
  },
  {
   "cell_type": "code",
   "execution_count": 20,
   "metadata": {
    "colab": {},
    "colab_type": "code",
    "id": "82lVA3vUSpN5"
   },
   "outputs": [
    {
     "data": {
      "text/html": [
       "<div>\n",
       "<style scoped>\n",
       "    .dataframe tbody tr th:only-of-type {\n",
       "        vertical-align: middle;\n",
       "    }\n",
       "\n",
       "    .dataframe tbody tr th {\n",
       "        vertical-align: top;\n",
       "    }\n",
       "\n",
       "    .dataframe thead th {\n",
       "        text-align: right;\n",
       "    }\n",
       "</style>\n",
       "<table border=\"1\" class=\"dataframe\">\n",
       "  <thead>\n",
       "    <tr style=\"text-align: right;\">\n",
       "      <th></th>\n",
       "      <th>patient_id</th>\n",
       "      <th>global_num</th>\n",
       "      <th>sex</th>\n",
       "      <th>birth_year</th>\n",
       "      <th>age</th>\n",
       "      <th>country</th>\n",
       "      <th>province</th>\n",
       "      <th>city</th>\n",
       "      <th>disease</th>\n",
       "      <th>infection_case</th>\n",
       "      <th>infection_order</th>\n",
       "      <th>infected_by</th>\n",
       "      <th>contact_number</th>\n",
       "      <th>symptom_onset_date</th>\n",
       "      <th>confirmed_date</th>\n",
       "      <th>released_date</th>\n",
       "      <th>deceased_date</th>\n",
       "      <th>state</th>\n",
       "      <th>n_age</th>\n",
       "    </tr>\n",
       "  </thead>\n",
       "  <tbody>\n",
       "    <tr>\n",
       "      <th>0</th>\n",
       "      <td>False</td>\n",
       "      <td>False</td>\n",
       "      <td>False</td>\n",
       "      <td>False</td>\n",
       "      <td>False</td>\n",
       "      <td>False</td>\n",
       "      <td>False</td>\n",
       "      <td>False</td>\n",
       "      <td>False</td>\n",
       "      <td>False</td>\n",
       "      <td>False</td>\n",
       "      <td>False</td>\n",
       "      <td>False</td>\n",
       "      <td>False</td>\n",
       "      <td>False</td>\n",
       "      <td>False</td>\n",
       "      <td>False</td>\n",
       "      <td>False</td>\n",
       "      <td>False</td>\n",
       "    </tr>\n",
       "    <tr>\n",
       "      <th>1</th>\n",
       "      <td>False</td>\n",
       "      <td>False</td>\n",
       "      <td>False</td>\n",
       "      <td>False</td>\n",
       "      <td>False</td>\n",
       "      <td>False</td>\n",
       "      <td>False</td>\n",
       "      <td>False</td>\n",
       "      <td>False</td>\n",
       "      <td>False</td>\n",
       "      <td>False</td>\n",
       "      <td>False</td>\n",
       "      <td>False</td>\n",
       "      <td>False</td>\n",
       "      <td>False</td>\n",
       "      <td>False</td>\n",
       "      <td>False</td>\n",
       "      <td>False</td>\n",
       "      <td>False</td>\n",
       "    </tr>\n",
       "    <tr>\n",
       "      <th>2</th>\n",
       "      <td>False</td>\n",
       "      <td>False</td>\n",
       "      <td>False</td>\n",
       "      <td>False</td>\n",
       "      <td>False</td>\n",
       "      <td>False</td>\n",
       "      <td>False</td>\n",
       "      <td>False</td>\n",
       "      <td>False</td>\n",
       "      <td>False</td>\n",
       "      <td>False</td>\n",
       "      <td>False</td>\n",
       "      <td>False</td>\n",
       "      <td>False</td>\n",
       "      <td>False</td>\n",
       "      <td>False</td>\n",
       "      <td>False</td>\n",
       "      <td>False</td>\n",
       "      <td>False</td>\n",
       "    </tr>\n",
       "    <tr>\n",
       "      <th>3</th>\n",
       "      <td>False</td>\n",
       "      <td>False</td>\n",
       "      <td>False</td>\n",
       "      <td>False</td>\n",
       "      <td>False</td>\n",
       "      <td>False</td>\n",
       "      <td>False</td>\n",
       "      <td>False</td>\n",
       "      <td>False</td>\n",
       "      <td>False</td>\n",
       "      <td>False</td>\n",
       "      <td>False</td>\n",
       "      <td>False</td>\n",
       "      <td>False</td>\n",
       "      <td>False</td>\n",
       "      <td>False</td>\n",
       "      <td>False</td>\n",
       "      <td>False</td>\n",
       "      <td>False</td>\n",
       "    </tr>\n",
       "    <tr>\n",
       "      <th>4</th>\n",
       "      <td>False</td>\n",
       "      <td>False</td>\n",
       "      <td>False</td>\n",
       "      <td>False</td>\n",
       "      <td>False</td>\n",
       "      <td>False</td>\n",
       "      <td>False</td>\n",
       "      <td>False</td>\n",
       "      <td>False</td>\n",
       "      <td>False</td>\n",
       "      <td>False</td>\n",
       "      <td>False</td>\n",
       "      <td>False</td>\n",
       "      <td>False</td>\n",
       "      <td>False</td>\n",
       "      <td>False</td>\n",
       "      <td>False</td>\n",
       "      <td>False</td>\n",
       "      <td>False</td>\n",
       "    </tr>\n",
       "    <tr>\n",
       "      <th>...</th>\n",
       "      <td>...</td>\n",
       "      <td>...</td>\n",
       "      <td>...</td>\n",
       "      <td>...</td>\n",
       "      <td>...</td>\n",
       "      <td>...</td>\n",
       "      <td>...</td>\n",
       "      <td>...</td>\n",
       "      <td>...</td>\n",
       "      <td>...</td>\n",
       "      <td>...</td>\n",
       "      <td>...</td>\n",
       "      <td>...</td>\n",
       "      <td>...</td>\n",
       "      <td>...</td>\n",
       "      <td>...</td>\n",
       "      <td>...</td>\n",
       "      <td>...</td>\n",
       "      <td>...</td>\n",
       "    </tr>\n",
       "    <tr>\n",
       "      <th>2213</th>\n",
       "      <td>False</td>\n",
       "      <td>False</td>\n",
       "      <td>False</td>\n",
       "      <td>False</td>\n",
       "      <td>False</td>\n",
       "      <td>False</td>\n",
       "      <td>False</td>\n",
       "      <td>False</td>\n",
       "      <td>False</td>\n",
       "      <td>False</td>\n",
       "      <td>False</td>\n",
       "      <td>False</td>\n",
       "      <td>False</td>\n",
       "      <td>False</td>\n",
       "      <td>False</td>\n",
       "      <td>True</td>\n",
       "      <td>False</td>\n",
       "      <td>False</td>\n",
       "      <td>False</td>\n",
       "    </tr>\n",
       "    <tr>\n",
       "      <th>2214</th>\n",
       "      <td>False</td>\n",
       "      <td>False</td>\n",
       "      <td>False</td>\n",
       "      <td>False</td>\n",
       "      <td>False</td>\n",
       "      <td>False</td>\n",
       "      <td>False</td>\n",
       "      <td>False</td>\n",
       "      <td>False</td>\n",
       "      <td>False</td>\n",
       "      <td>False</td>\n",
       "      <td>False</td>\n",
       "      <td>False</td>\n",
       "      <td>False</td>\n",
       "      <td>False</td>\n",
       "      <td>True</td>\n",
       "      <td>False</td>\n",
       "      <td>False</td>\n",
       "      <td>False</td>\n",
       "    </tr>\n",
       "    <tr>\n",
       "      <th>2215</th>\n",
       "      <td>False</td>\n",
       "      <td>False</td>\n",
       "      <td>False</td>\n",
       "      <td>False</td>\n",
       "      <td>False</td>\n",
       "      <td>False</td>\n",
       "      <td>False</td>\n",
       "      <td>False</td>\n",
       "      <td>False</td>\n",
       "      <td>False</td>\n",
       "      <td>False</td>\n",
       "      <td>False</td>\n",
       "      <td>False</td>\n",
       "      <td>False</td>\n",
       "      <td>False</td>\n",
       "      <td>False</td>\n",
       "      <td>False</td>\n",
       "      <td>False</td>\n",
       "      <td>False</td>\n",
       "    </tr>\n",
       "    <tr>\n",
       "      <th>2216</th>\n",
       "      <td>False</td>\n",
       "      <td>False</td>\n",
       "      <td>False</td>\n",
       "      <td>False</td>\n",
       "      <td>False</td>\n",
       "      <td>False</td>\n",
       "      <td>False</td>\n",
       "      <td>False</td>\n",
       "      <td>False</td>\n",
       "      <td>False</td>\n",
       "      <td>False</td>\n",
       "      <td>False</td>\n",
       "      <td>False</td>\n",
       "      <td>False</td>\n",
       "      <td>False</td>\n",
       "      <td>False</td>\n",
       "      <td>False</td>\n",
       "      <td>False</td>\n",
       "      <td>False</td>\n",
       "    </tr>\n",
       "    <tr>\n",
       "      <th>2217</th>\n",
       "      <td>False</td>\n",
       "      <td>False</td>\n",
       "      <td>False</td>\n",
       "      <td>False</td>\n",
       "      <td>False</td>\n",
       "      <td>False</td>\n",
       "      <td>False</td>\n",
       "      <td>False</td>\n",
       "      <td>False</td>\n",
       "      <td>False</td>\n",
       "      <td>False</td>\n",
       "      <td>False</td>\n",
       "      <td>False</td>\n",
       "      <td>False</td>\n",
       "      <td>False</td>\n",
       "      <td>True</td>\n",
       "      <td>False</td>\n",
       "      <td>False</td>\n",
       "      <td>False</td>\n",
       "    </tr>\n",
       "  </tbody>\n",
       "</table>\n",
       "<p>2218 rows × 19 columns</p>\n",
       "</div>"
      ],
      "text/plain": [
       "      patient_id  global_num    sex  birth_year    age  country  province  \\\n",
       "0          False       False  False       False  False    False     False   \n",
       "1          False       False  False       False  False    False     False   \n",
       "2          False       False  False       False  False    False     False   \n",
       "3          False       False  False       False  False    False     False   \n",
       "4          False       False  False       False  False    False     False   \n",
       "...          ...         ...    ...         ...    ...      ...       ...   \n",
       "2213       False       False  False       False  False    False     False   \n",
       "2214       False       False  False       False  False    False     False   \n",
       "2215       False       False  False       False  False    False     False   \n",
       "2216       False       False  False       False  False    False     False   \n",
       "2217       False       False  False       False  False    False     False   \n",
       "\n",
       "       city  disease  infection_case  infection_order  infected_by  \\\n",
       "0     False    False           False            False        False   \n",
       "1     False    False           False            False        False   \n",
       "2     False    False           False            False        False   \n",
       "3     False    False           False            False        False   \n",
       "4     False    False           False            False        False   \n",
       "...     ...      ...             ...              ...          ...   \n",
       "2213  False    False           False            False        False   \n",
       "2214  False    False           False            False        False   \n",
       "2215  False    False           False            False        False   \n",
       "2216  False    False           False            False        False   \n",
       "2217  False    False           False            False        False   \n",
       "\n",
       "      contact_number  symptom_onset_date  confirmed_date  released_date  \\\n",
       "0              False               False           False          False   \n",
       "1              False               False           False          False   \n",
       "2              False               False           False          False   \n",
       "3              False               False           False          False   \n",
       "4              False               False           False          False   \n",
       "...              ...                 ...             ...            ...   \n",
       "2213           False               False           False           True   \n",
       "2214           False               False           False           True   \n",
       "2215           False               False           False          False   \n",
       "2216           False               False           False          False   \n",
       "2217           False               False           False           True   \n",
       "\n",
       "      deceased_date  state  n_age  \n",
       "0             False  False  False  \n",
       "1             False  False  False  \n",
       "2             False  False  False  \n",
       "3             False  False  False  \n",
       "4             False  False  False  \n",
       "...             ...    ...    ...  \n",
       "2213          False  False  False  \n",
       "2214          False  False  False  \n",
       "2215          False  False  False  \n",
       "2216          False  False  False  \n",
       "2217          False  False  False  \n",
       "\n",
       "[2218 rows x 19 columns]"
      ]
     },
     "execution_count": 20,
     "metadata": {},
     "output_type": "execute_result"
    }
   ],
   "source": [
    "df.isnull()"
   ]
  },
  {
   "cell_type": "code",
   "execution_count": 21,
   "metadata": {
    "colab": {},
    "colab_type": "code",
    "id": "55CJRFKtSpN7"
   },
   "outputs": [
    {
     "data": {
      "text/html": [
       "<div>\n",
       "<style scoped>\n",
       "    .dataframe tbody tr th:only-of-type {\n",
       "        vertical-align: middle;\n",
       "    }\n",
       "\n",
       "    .dataframe tbody tr th {\n",
       "        vertical-align: top;\n",
       "    }\n",
       "\n",
       "    .dataframe thead th {\n",
       "        text-align: right;\n",
       "    }\n",
       "</style>\n",
       "<table border=\"1\" class=\"dataframe\">\n",
       "  <thead>\n",
       "    <tr style=\"text-align: right;\">\n",
       "      <th></th>\n",
       "      <th>patient_id</th>\n",
       "      <th>global_num</th>\n",
       "      <th>sex</th>\n",
       "      <th>birth_year</th>\n",
       "      <th>age</th>\n",
       "      <th>country</th>\n",
       "      <th>province</th>\n",
       "      <th>city</th>\n",
       "      <th>disease</th>\n",
       "      <th>infection_case</th>\n",
       "      <th>infection_order</th>\n",
       "      <th>infected_by</th>\n",
       "      <th>contact_number</th>\n",
       "      <th>symptom_onset_date</th>\n",
       "      <th>confirmed_date</th>\n",
       "      <th>released_date</th>\n",
       "      <th>deceased_date</th>\n",
       "      <th>state</th>\n",
       "      <th>n_age</th>\n",
       "    </tr>\n",
       "  </thead>\n",
       "  <tbody>\n",
       "    <tr>\n",
       "      <th>0</th>\n",
       "      <td>1000000001</td>\n",
       "      <td>2.0</td>\n",
       "      <td>male</td>\n",
       "      <td>1964.0</td>\n",
       "      <td>50s</td>\n",
       "      <td>Korea</td>\n",
       "      <td>Seoul</td>\n",
       "      <td>Gangseo-gu</td>\n",
       "      <td>0</td>\n",
       "      <td>overseas inflow</td>\n",
       "      <td>1.0</td>\n",
       "      <td>2.600789e+09</td>\n",
       "      <td>75.0</td>\n",
       "      <td>2020-01-22</td>\n",
       "      <td>2020-01-23</td>\n",
       "      <td>2020-02-05</td>\n",
       "      <td>2020-02-23</td>\n",
       "      <td>released</td>\n",
       "      <td>56.0</td>\n",
       "    </tr>\n",
       "    <tr>\n",
       "      <th>1</th>\n",
       "      <td>1000000002</td>\n",
       "      <td>5.0</td>\n",
       "      <td>male</td>\n",
       "      <td>1987.0</td>\n",
       "      <td>30s</td>\n",
       "      <td>Korea</td>\n",
       "      <td>Seoul</td>\n",
       "      <td>Jungnang-gu</td>\n",
       "      <td>0</td>\n",
       "      <td>overseas inflow</td>\n",
       "      <td>1.0</td>\n",
       "      <td>2.600789e+09</td>\n",
       "      <td>31.0</td>\n",
       "      <td>2020-02-27</td>\n",
       "      <td>2020-01-30</td>\n",
       "      <td>2020-03-02</td>\n",
       "      <td>2020-02-23</td>\n",
       "      <td>released</td>\n",
       "      <td>33.0</td>\n",
       "    </tr>\n",
       "    <tr>\n",
       "      <th>2</th>\n",
       "      <td>1000000003</td>\n",
       "      <td>6.0</td>\n",
       "      <td>male</td>\n",
       "      <td>1964.0</td>\n",
       "      <td>50s</td>\n",
       "      <td>Korea</td>\n",
       "      <td>Seoul</td>\n",
       "      <td>Jongno-gu</td>\n",
       "      <td>0</td>\n",
       "      <td>contact with patient</td>\n",
       "      <td>2.0</td>\n",
       "      <td>2.002000e+09</td>\n",
       "      <td>17.0</td>\n",
       "      <td>2020-02-27</td>\n",
       "      <td>2020-01-30</td>\n",
       "      <td>2020-02-19</td>\n",
       "      <td>2020-02-23</td>\n",
       "      <td>released</td>\n",
       "      <td>56.0</td>\n",
       "    </tr>\n",
       "    <tr>\n",
       "      <th>3</th>\n",
       "      <td>1000000004</td>\n",
       "      <td>7.0</td>\n",
       "      <td>male</td>\n",
       "      <td>1991.0</td>\n",
       "      <td>20s</td>\n",
       "      <td>Korea</td>\n",
       "      <td>Seoul</td>\n",
       "      <td>Mapo-gu</td>\n",
       "      <td>0</td>\n",
       "      <td>overseas inflow</td>\n",
       "      <td>1.0</td>\n",
       "      <td>2.600789e+09</td>\n",
       "      <td>9.0</td>\n",
       "      <td>2020-01-26</td>\n",
       "      <td>2020-01-30</td>\n",
       "      <td>2020-02-15</td>\n",
       "      <td>2020-02-23</td>\n",
       "      <td>released</td>\n",
       "      <td>29.0</td>\n",
       "    </tr>\n",
       "    <tr>\n",
       "      <th>4</th>\n",
       "      <td>1000000005</td>\n",
       "      <td>9.0</td>\n",
       "      <td>female</td>\n",
       "      <td>1992.0</td>\n",
       "      <td>20s</td>\n",
       "      <td>Korea</td>\n",
       "      <td>Seoul</td>\n",
       "      <td>Seongbuk-gu</td>\n",
       "      <td>0</td>\n",
       "      <td>contact with patient</td>\n",
       "      <td>2.0</td>\n",
       "      <td>1.000000e+09</td>\n",
       "      <td>2.0</td>\n",
       "      <td>2020-02-27</td>\n",
       "      <td>2020-01-31</td>\n",
       "      <td>2020-02-24</td>\n",
       "      <td>2020-02-23</td>\n",
       "      <td>released</td>\n",
       "      <td>28.0</td>\n",
       "    </tr>\n",
       "  </tbody>\n",
       "</table>\n",
       "</div>"
      ],
      "text/plain": [
       "   patient_id  global_num     sex  birth_year  age country province  \\\n",
       "0  1000000001         2.0    male      1964.0  50s   Korea    Seoul   \n",
       "1  1000000002         5.0    male      1987.0  30s   Korea    Seoul   \n",
       "2  1000000003         6.0    male      1964.0  50s   Korea    Seoul   \n",
       "3  1000000004         7.0    male      1991.0  20s   Korea    Seoul   \n",
       "4  1000000005         9.0  female      1992.0  20s   Korea    Seoul   \n",
       "\n",
       "          city  disease        infection_case  infection_order   infected_by  \\\n",
       "0   Gangseo-gu        0       overseas inflow              1.0  2.600789e+09   \n",
       "1  Jungnang-gu        0       overseas inflow              1.0  2.600789e+09   \n",
       "2    Jongno-gu        0  contact with patient              2.0  2.002000e+09   \n",
       "3      Mapo-gu        0       overseas inflow              1.0  2.600789e+09   \n",
       "4  Seongbuk-gu        0  contact with patient              2.0  1.000000e+09   \n",
       "\n",
       "   contact_number symptom_onset_date confirmed_date released_date  \\\n",
       "0            75.0         2020-01-22     2020-01-23    2020-02-05   \n",
       "1            31.0         2020-02-27     2020-01-30    2020-03-02   \n",
       "2            17.0         2020-02-27     2020-01-30    2020-02-19   \n",
       "3             9.0         2020-01-26     2020-01-30    2020-02-15   \n",
       "4             2.0         2020-02-27     2020-01-31    2020-02-24   \n",
       "\n",
       "  deceased_date     state  n_age  \n",
       "0    2020-02-23  released   56.0  \n",
       "1    2020-02-23  released   33.0  \n",
       "2    2020-02-23  released   56.0  \n",
       "3    2020-02-23  released   29.0  \n",
       "4    2020-02-23  released   28.0  "
      ]
     },
     "execution_count": 21,
     "metadata": {},
     "output_type": "execute_result"
    }
   ],
   "source": [
    "df.head()"
   ]
  },
  {
   "cell_type": "markdown",
   "metadata": {
    "colab_type": "text",
    "id": "PK9Jk8KgSpN9"
   },
   "source": [
    "Remove date columns from the data.\n"
   ]
  },
  {
   "cell_type": "code",
   "execution_count": 22,
   "metadata": {
    "colab": {},
    "colab_type": "code",
    "id": "xIbYDncMSpN9"
   },
   "outputs": [],
   "source": [
    "df = df.drop(['symptom_onset_date','confirmed_date','released_date','deceased_date'],axis =1)"
   ]
  },
  {
   "cell_type": "markdown",
   "metadata": {
    "colab_type": "text",
    "id": "RDBxf5ZDB5ZZ"
   },
   "source": [
    "Review the count of unique values by column."
   ]
  },
  {
   "cell_type": "code",
   "execution_count": 23,
   "metadata": {
    "colab": {},
    "colab_type": "code",
    "id": "PIdCkZ4AB5Zf"
   },
   "outputs": [
    {
     "name": "stdout",
     "output_type": "stream",
     "text": [
      "patient_id         2218\n",
      "global_num         1304\n",
      "sex                   2\n",
      "birth_year           97\n",
      "age                  11\n",
      "country               4\n",
      "province             17\n",
      "city                134\n",
      "disease               2\n",
      "infection_case       16\n",
      "infection_order       7\n",
      "infected_by         207\n",
      "contact_number       73\n",
      "state                 3\n",
      "n_age                96\n",
      "dtype: int64\n"
     ]
    }
   ],
   "source": [
    "print(df.nunique())"
   ]
  },
  {
   "cell_type": "markdown",
   "metadata": {
    "colab_type": "text",
    "id": "9oENi5DRB5Zq"
   },
   "source": [
    "Review the percent of unique values by column."
   ]
  },
  {
   "cell_type": "code",
   "execution_count": 24,
   "metadata": {
    "colab": {},
    "colab_type": "code",
    "id": "_IcO33VsB5Zt"
   },
   "outputs": [
    {
     "name": "stdout",
     "output_type": "stream",
     "text": [
      "patient_id         1.000000\n",
      "global_num         0.587917\n",
      "sex                0.000902\n",
      "birth_year         0.043733\n",
      "age                0.004959\n",
      "country            0.001803\n",
      "province           0.007665\n",
      "city               0.060415\n",
      "disease            0.000902\n",
      "infection_case     0.007214\n",
      "infection_order    0.003156\n",
      "infected_by        0.093327\n",
      "contact_number     0.032913\n",
      "state              0.001353\n",
      "n_age              0.043282\n",
      "dtype: float64\n"
     ]
    }
   ],
   "source": [
    "print(df.nunique()/df.shape[0])"
   ]
  },
  {
   "cell_type": "markdown",
   "metadata": {
    "colab_type": "text",
    "id": "rCZHVugqB5Z4"
   },
   "source": [
    "Review the range of values per column."
   ]
  },
  {
   "cell_type": "code",
   "execution_count": 25,
   "metadata": {
    "colab": {},
    "colab_type": "code",
    "id": "Y3zLsGxMB5Z5"
   },
   "outputs": [
    {
     "data": {
      "text/html": [
       "<div>\n",
       "<style scoped>\n",
       "    .dataframe tbody tr th:only-of-type {\n",
       "        vertical-align: middle;\n",
       "    }\n",
       "\n",
       "    .dataframe tbody tr th {\n",
       "        vertical-align: top;\n",
       "    }\n",
       "\n",
       "    .dataframe thead th {\n",
       "        text-align: right;\n",
       "    }\n",
       "</style>\n",
       "<table border=\"1\" class=\"dataframe\">\n",
       "  <thead>\n",
       "    <tr style=\"text-align: right;\">\n",
       "      <th></th>\n",
       "      <th>count</th>\n",
       "      <th>mean</th>\n",
       "      <th>std</th>\n",
       "      <th>min</th>\n",
       "      <th>25%</th>\n",
       "      <th>50%</th>\n",
       "      <th>75%</th>\n",
       "      <th>max</th>\n",
       "    </tr>\n",
       "  </thead>\n",
       "  <tbody>\n",
       "    <tr>\n",
       "      <th>patient_id</th>\n",
       "      <td>2218.0</td>\n",
       "      <td>4.014678e+09</td>\n",
       "      <td>2.192419e+09</td>\n",
       "      <td>1.000000e+09</td>\n",
       "      <td>1.700000e+09</td>\n",
       "      <td>6.001000e+09</td>\n",
       "      <td>6.004000e+09</td>\n",
       "      <td>7.000000e+09</td>\n",
       "    </tr>\n",
       "    <tr>\n",
       "      <th>global_num</th>\n",
       "      <td>2218.0</td>\n",
       "      <td>4.664817e+03</td>\n",
       "      <td>2.211785e+03</td>\n",
       "      <td>1.000000e+00</td>\n",
       "      <td>4.205250e+03</td>\n",
       "      <td>4.664817e+03</td>\n",
       "      <td>5.900250e+03</td>\n",
       "      <td>8.717000e+03</td>\n",
       "    </tr>\n",
       "    <tr>\n",
       "      <th>birth_year</th>\n",
       "      <td>2218.0</td>\n",
       "      <td>1.974989e+03</td>\n",
       "      <td>1.731123e+01</td>\n",
       "      <td>1.916000e+03</td>\n",
       "      <td>1.965000e+03</td>\n",
       "      <td>1.974989e+03</td>\n",
       "      <td>1.988000e+03</td>\n",
       "      <td>2.020000e+03</td>\n",
       "    </tr>\n",
       "    <tr>\n",
       "      <th>disease</th>\n",
       "      <td>2218.0</td>\n",
       "      <td>8.566276e-03</td>\n",
       "      <td>9.217769e-02</td>\n",
       "      <td>0.000000e+00</td>\n",
       "      <td>0.000000e+00</td>\n",
       "      <td>0.000000e+00</td>\n",
       "      <td>0.000000e+00</td>\n",
       "      <td>1.000000e+00</td>\n",
       "    </tr>\n",
       "    <tr>\n",
       "      <th>infection_order</th>\n",
       "      <td>2218.0</td>\n",
       "      <td>2.285714e+00</td>\n",
       "      <td>1.706622e-01</td>\n",
       "      <td>1.000000e+00</td>\n",
       "      <td>2.285714e+00</td>\n",
       "      <td>2.285714e+00</td>\n",
       "      <td>2.285714e+00</td>\n",
       "      <td>6.000000e+00</td>\n",
       "    </tr>\n",
       "    <tr>\n",
       "      <th>infected_by</th>\n",
       "      <td>2218.0</td>\n",
       "      <td>2.600789e+09</td>\n",
       "      <td>7.216328e+08</td>\n",
       "      <td>1.000000e+09</td>\n",
       "      <td>2.600789e+09</td>\n",
       "      <td>2.600789e+09</td>\n",
       "      <td>2.600789e+09</td>\n",
       "      <td>6.113000e+09</td>\n",
       "    </tr>\n",
       "    <tr>\n",
       "      <th>contact_number</th>\n",
       "      <td>2218.0</td>\n",
       "      <td>2.412895e+01</td>\n",
       "      <td>3.917141e+01</td>\n",
       "      <td>0.000000e+00</td>\n",
       "      <td>2.412895e+01</td>\n",
       "      <td>2.412895e+01</td>\n",
       "      <td>2.412895e+01</td>\n",
       "      <td>1.160000e+03</td>\n",
       "    </tr>\n",
       "    <tr>\n",
       "      <th>n_age</th>\n",
       "      <td>2218.0</td>\n",
       "      <td>4.623715e+01</td>\n",
       "      <td>1.747912e+01</td>\n",
       "      <td>0.000000e+00</td>\n",
       "      <td>3.200000e+01</td>\n",
       "      <td>5.100000e+01</td>\n",
       "      <td>5.500000e+01</td>\n",
       "      <td>1.040000e+02</td>\n",
       "    </tr>\n",
       "  </tbody>\n",
       "</table>\n",
       "</div>"
      ],
      "text/plain": [
       "                  count          mean           std           min  \\\n",
       "patient_id       2218.0  4.014678e+09  2.192419e+09  1.000000e+09   \n",
       "global_num       2218.0  4.664817e+03  2.211785e+03  1.000000e+00   \n",
       "birth_year       2218.0  1.974989e+03  1.731123e+01  1.916000e+03   \n",
       "disease          2218.0  8.566276e-03  9.217769e-02  0.000000e+00   \n",
       "infection_order  2218.0  2.285714e+00  1.706622e-01  1.000000e+00   \n",
       "infected_by      2218.0  2.600789e+09  7.216328e+08  1.000000e+09   \n",
       "contact_number   2218.0  2.412895e+01  3.917141e+01  0.000000e+00   \n",
       "n_age            2218.0  4.623715e+01  1.747912e+01  0.000000e+00   \n",
       "\n",
       "                          25%           50%           75%           max  \n",
       "patient_id       1.700000e+09  6.001000e+09  6.004000e+09  7.000000e+09  \n",
       "global_num       4.205250e+03  4.664817e+03  5.900250e+03  8.717000e+03  \n",
       "birth_year       1.965000e+03  1.974989e+03  1.988000e+03  2.020000e+03  \n",
       "disease          0.000000e+00  0.000000e+00  0.000000e+00  1.000000e+00  \n",
       "infection_order  2.285714e+00  2.285714e+00  2.285714e+00  6.000000e+00  \n",
       "infected_by      2.600789e+09  2.600789e+09  2.600789e+09  6.113000e+09  \n",
       "contact_number   2.412895e+01  2.412895e+01  2.412895e+01  1.160000e+03  \n",
       "n_age            3.200000e+01  5.100000e+01  5.500000e+01  1.040000e+02  "
      ]
     },
     "execution_count": 25,
     "metadata": {},
     "output_type": "execute_result"
    }
   ],
   "source": [
    "df.describe().T"
   ]
  },
  {
   "cell_type": "markdown",
   "metadata": {
    "colab_type": "text",
    "id": "AEBFq3hmB5aN"
   },
   "source": [
    "### Check for duplicated rows"
   ]
  },
  {
   "cell_type": "code",
   "execution_count": 26,
   "metadata": {
    "colab": {},
    "colab_type": "code",
    "id": "s9KGFCpkB5aP"
   },
   "outputs": [
    {
     "data": {
      "text/html": [
       "<div>\n",
       "<style scoped>\n",
       "    .dataframe tbody tr th:only-of-type {\n",
       "        vertical-align: middle;\n",
       "    }\n",
       "\n",
       "    .dataframe tbody tr th {\n",
       "        vertical-align: top;\n",
       "    }\n",
       "\n",
       "    .dataframe thead th {\n",
       "        text-align: right;\n",
       "    }\n",
       "</style>\n",
       "<table border=\"1\" class=\"dataframe\">\n",
       "  <thead>\n",
       "    <tr style=\"text-align: right;\">\n",
       "      <th></th>\n",
       "      <th>patient_id</th>\n",
       "      <th>global_num</th>\n",
       "      <th>sex</th>\n",
       "      <th>birth_year</th>\n",
       "      <th>age</th>\n",
       "      <th>country</th>\n",
       "      <th>province</th>\n",
       "      <th>city</th>\n",
       "      <th>disease</th>\n",
       "      <th>infection_case</th>\n",
       "      <th>infection_order</th>\n",
       "      <th>infected_by</th>\n",
       "      <th>contact_number</th>\n",
       "      <th>state</th>\n",
       "      <th>n_age</th>\n",
       "    </tr>\n",
       "  </thead>\n",
       "  <tbody>\n",
       "  </tbody>\n",
       "</table>\n",
       "</div>"
      ],
      "text/plain": [
       "Empty DataFrame\n",
       "Columns: [patient_id, global_num, sex, birth_year, age, country, province, city, disease, infection_case, infection_order, infected_by, contact_number, state, n_age]\n",
       "Index: []"
      ]
     },
     "execution_count": 26,
     "metadata": {},
     "output_type": "execute_result"
    }
   ],
   "source": [
    "duplicateRowsDF = df[df.duplicated()]\n",
    "duplicateRowsDF"
   ]
  },
  {
   "cell_type": "markdown",
   "metadata": {
    "colab_type": "text",
    "id": "8WOrbEk1SpOH"
   },
   "source": [
    "Print the categorical columns and their associated levels."
   ]
  },
  {
   "cell_type": "code",
   "execution_count": 27,
   "metadata": {
    "colab": {},
    "colab_type": "code",
    "id": "8QTm6RuRSpOH"
   },
   "outputs": [
    {
     "data": {
      "text/html": [
       "<div>\n",
       "<style scoped>\n",
       "    .dataframe tbody tr th:only-of-type {\n",
       "        vertical-align: middle;\n",
       "    }\n",
       "\n",
       "    .dataframe tbody tr th {\n",
       "        vertical-align: top;\n",
       "    }\n",
       "\n",
       "    .dataframe thead th {\n",
       "        text-align: right;\n",
       "    }\n",
       "</style>\n",
       "<table border=\"1\" class=\"dataframe\">\n",
       "  <thead>\n",
       "    <tr style=\"text-align: right;\">\n",
       "      <th></th>\n",
       "      <th>VarName</th>\n",
       "      <th>LevelsCount</th>\n",
       "    </tr>\n",
       "  </thead>\n",
       "  <tbody>\n",
       "    <tr>\n",
       "      <th>0</th>\n",
       "      <td>sex</td>\n",
       "      <td>2</td>\n",
       "    </tr>\n",
       "    <tr>\n",
       "      <th>1</th>\n",
       "      <td>age</td>\n",
       "      <td>11</td>\n",
       "    </tr>\n",
       "    <tr>\n",
       "      <th>2</th>\n",
       "      <td>country</td>\n",
       "      <td>4</td>\n",
       "    </tr>\n",
       "    <tr>\n",
       "      <th>3</th>\n",
       "      <td>province</td>\n",
       "      <td>17</td>\n",
       "    </tr>\n",
       "    <tr>\n",
       "      <th>4</th>\n",
       "      <td>city</td>\n",
       "      <td>134</td>\n",
       "    </tr>\n",
       "    <tr>\n",
       "      <th>5</th>\n",
       "      <td>infection_case</td>\n",
       "      <td>16</td>\n",
       "    </tr>\n",
       "    <tr>\n",
       "      <th>6</th>\n",
       "      <td>state</td>\n",
       "      <td>3</td>\n",
       "    </tr>\n",
       "  </tbody>\n",
       "</table>\n",
       "</div>"
      ],
      "text/plain": [
       "          VarName  LevelsCount\n",
       "0             sex            2\n",
       "1             age           11\n",
       "2         country            4\n",
       "3        province           17\n",
       "4            city          134\n",
       "5  infection_case           16\n",
       "6           state            3"
      ]
     },
     "execution_count": 27,
     "metadata": {},
     "output_type": "execute_result"
    }
   ],
   "source": [
    "dfo = df.select_dtypes(include=['object'], exclude=['datetime'])\n",
    "dfo.shape\n",
    "#get levels for all variables\n",
    "vn = pd.DataFrame(dfo.nunique()).reset_index()\n",
    "vn.columns = ['VarName', 'LevelsCount']\n",
    "vn.sort_values(by='LevelsCount', ascending =False)\n",
    "vn"
   ]
  },
  {
   "cell_type": "markdown",
   "metadata": {
    "colab_type": "text",
    "id": "a43l6w_uSpOJ"
   },
   "source": [
    "**<font color='teal'> Plot the correlation heat map for the features.</font>**"
   ]
  },
  {
   "cell_type": "code",
   "execution_count": 28,
   "metadata": {
    "colab": {},
    "colab_type": "code",
    "id": "ZRJlPqV5B5e5",
    "scrolled": true
   },
   "outputs": [
    {
     "data": {
      "text/plain": [
       "<matplotlib.axes._subplots.AxesSubplot at 0x1ca806a6b48>"
      ]
     },
     "execution_count": 28,
     "metadata": {},
     "output_type": "execute_result"
    },
    {
     "data": {
      "image/png": "[encoded data removed]",
      "text/plain": [
       "<Figure size 432x288 with 2 Axes>"
      ]
     },
     "metadata": {
      "needs_background": "light"
     },
     "output_type": "display_data"
    }
   ],
   "source": [
    "sns.heatmap(df.corr())"
   ]
  },
  {
   "cell_type": "markdown",
   "metadata": {
    "colab_type": "text",
    "id": "2KtABW0USpOK"
   },
   "source": [
    "**<font color='teal'> Plot the boxplots to check for outliers. </font>**"
   ]
  },
  {
   "cell_type": "code",
   "execution_count": 29,
   "metadata": {
    "colab": {},
    "colab_type": "code",
    "id": "uYMmU_szB5fZ"
   },
   "outputs": [
    {
     "data": {
      "text/plain": [
       "<matplotlib.axes._subplots.AxesSubplot at 0x1ca8068f488>"
      ]
     },
     "execution_count": 29,
     "metadata": {},
     "output_type": "execute_result"
    },
    {
     "data": {
      "image/png": "[encoded data removed]",
      "text/plain": [
       "<Figure size 1440x720 with 1 Axes>"
      ]
     },
     "metadata": {
      "needs_background": "light"
     },
     "output_type": "display_data"
    }
   ],
   "source": [
    "plt.figure(figsize=(20,10))\n",
    "df.boxplot()"
   ]
  },
  {
   "cell_type": "markdown",
   "metadata": {
    "colab_type": "text",
    "id": "2Z_NuqkNSpOM"
   },
   "source": [
    "**<font color='teal'> Create dummy features for object type features. </font>**"
   ]
  },
  {
   "cell_type": "code",
   "execution_count": 30,
   "metadata": {},
   "outputs": [
    {
     "data": {
      "text/html": [
       "<div>\n",
       "<style scoped>\n",
       "    .dataframe tbody tr th:only-of-type {\n",
       "        vertical-align: middle;\n",
       "    }\n",
       "\n",
       "    .dataframe tbody tr th {\n",
       "        vertical-align: top;\n",
       "    }\n",
       "\n",
       "    .dataframe thead th {\n",
       "        text-align: right;\n",
       "    }\n",
       "</style>\n",
       "<table border=\"1\" class=\"dataframe\">\n",
       "  <thead>\n",
       "    <tr style=\"text-align: right;\">\n",
       "      <th></th>\n",
       "      <th>patient_id</th>\n",
       "      <th>global_num</th>\n",
       "      <th>birth_year</th>\n",
       "      <th>disease</th>\n",
       "      <th>infection_order</th>\n",
       "      <th>infected_by</th>\n",
       "      <th>contact_number</th>\n",
       "      <th>state</th>\n",
       "      <th>n_age</th>\n",
       "      <th>sex_female</th>\n",
       "      <th>...</th>\n",
       "      <th>infection_case_Pilgrimage to Israel</th>\n",
       "      <th>infection_case_River of Grace Community Church</th>\n",
       "      <th>infection_case_Seongdong-gu APT</th>\n",
       "      <th>infection_case_Shincheonji Church</th>\n",
       "      <th>infection_case_Suyeong-gu Kindergarten</th>\n",
       "      <th>infection_case_contact with patient</th>\n",
       "      <th>infection_case_etc</th>\n",
       "      <th>infection_case_gym facility in Cheonan</th>\n",
       "      <th>infection_case_gym facility in Sejong</th>\n",
       "      <th>infection_case_overseas inflow</th>\n",
       "    </tr>\n",
       "  </thead>\n",
       "  <tbody>\n",
       "    <tr>\n",
       "      <th>0</th>\n",
       "      <td>1000000001</td>\n",
       "      <td>2.0</td>\n",
       "      <td>1964.0</td>\n",
       "      <td>0</td>\n",
       "      <td>1.0</td>\n",
       "      <td>2.600789e+09</td>\n",
       "      <td>75.0</td>\n",
       "      <td>released</td>\n",
       "      <td>56.0</td>\n",
       "      <td>0</td>\n",
       "      <td>...</td>\n",
       "      <td>0</td>\n",
       "      <td>0</td>\n",
       "      <td>0</td>\n",
       "      <td>0</td>\n",
       "      <td>0</td>\n",
       "      <td>0</td>\n",
       "      <td>0</td>\n",
       "      <td>0</td>\n",
       "      <td>0</td>\n",
       "      <td>1</td>\n",
       "    </tr>\n",
       "    <tr>\n",
       "      <th>1</th>\n",
       "      <td>1000000002</td>\n",
       "      <td>5.0</td>\n",
       "      <td>1987.0</td>\n",
       "      <td>0</td>\n",
       "      <td>1.0</td>\n",
       "      <td>2.600789e+09</td>\n",
       "      <td>31.0</td>\n",
       "      <td>released</td>\n",
       "      <td>33.0</td>\n",
       "      <td>0</td>\n",
       "      <td>...</td>\n",
       "      <td>0</td>\n",
       "      <td>0</td>\n",
       "      <td>0</td>\n",
       "      <td>0</td>\n",
       "      <td>0</td>\n",
       "      <td>0</td>\n",
       "      <td>0</td>\n",
       "      <td>0</td>\n",
       "      <td>0</td>\n",
       "      <td>1</td>\n",
       "    </tr>\n",
       "    <tr>\n",
       "      <th>2</th>\n",
       "      <td>1000000003</td>\n",
       "      <td>6.0</td>\n",
       "      <td>1964.0</td>\n",
       "      <td>0</td>\n",
       "      <td>2.0</td>\n",
       "      <td>2.002000e+09</td>\n",
       "      <td>17.0</td>\n",
       "      <td>released</td>\n",
       "      <td>56.0</td>\n",
       "      <td>0</td>\n",
       "      <td>...</td>\n",
       "      <td>0</td>\n",
       "      <td>0</td>\n",
       "      <td>0</td>\n",
       "      <td>0</td>\n",
       "      <td>0</td>\n",
       "      <td>1</td>\n",
       "      <td>0</td>\n",
       "      <td>0</td>\n",
       "      <td>0</td>\n",
       "      <td>0</td>\n",
       "    </tr>\n",
       "    <tr>\n",
       "      <th>3</th>\n",
       "      <td>1000000004</td>\n",
       "      <td>7.0</td>\n",
       "      <td>1991.0</td>\n",
       "      <td>0</td>\n",
       "      <td>1.0</td>\n",
       "      <td>2.600789e+09</td>\n",
       "      <td>9.0</td>\n",
       "      <td>released</td>\n",
       "      <td>29.0</td>\n",
       "      <td>0</td>\n",
       "      <td>...</td>\n",
       "      <td>0</td>\n",
       "      <td>0</td>\n",
       "      <td>0</td>\n",
       "      <td>0</td>\n",
       "      <td>0</td>\n",
       "      <td>0</td>\n",
       "      <td>0</td>\n",
       "      <td>0</td>\n",
       "      <td>0</td>\n",
       "      <td>1</td>\n",
       "    </tr>\n",
       "    <tr>\n",
       "      <th>4</th>\n",
       "      <td>1000000005</td>\n",
       "      <td>9.0</td>\n",
       "      <td>1992.0</td>\n",
       "      <td>0</td>\n",
       "      <td>2.0</td>\n",
       "      <td>1.000000e+09</td>\n",
       "      <td>2.0</td>\n",
       "      <td>released</td>\n",
       "      <td>28.0</td>\n",
       "      <td>1</td>\n",
       "      <td>...</td>\n",
       "      <td>0</td>\n",
       "      <td>0</td>\n",
       "      <td>0</td>\n",
       "      <td>0</td>\n",
       "      <td>0</td>\n",
       "      <td>1</td>\n",
       "      <td>0</td>\n",
       "      <td>0</td>\n",
       "      <td>0</td>\n",
       "      <td>0</td>\n",
       "    </tr>\n",
       "  </tbody>\n",
       "</table>\n",
       "<p>5 rows × 193 columns</p>\n",
       "</div>"
      ],
      "text/plain": [
       "   patient_id  global_num  birth_year  disease  infection_order   infected_by  \\\n",
       "0  1000000001         2.0      1964.0        0              1.0  2.600789e+09   \n",
       "1  1000000002         5.0      1987.0        0              1.0  2.600789e+09   \n",
       "2  1000000003         6.0      1964.0        0              2.0  2.002000e+09   \n",
       "3  1000000004         7.0      1991.0        0              1.0  2.600789e+09   \n",
       "4  1000000005         9.0      1992.0        0              2.0  1.000000e+09   \n",
       "\n",
       "   contact_number     state  n_age  sex_female  ...  \\\n",
       "0            75.0  released   56.0           0  ...   \n",
       "1            31.0  released   33.0           0  ...   \n",
       "2            17.0  released   56.0           0  ...   \n",
       "3             9.0  released   29.0           0  ...   \n",
       "4             2.0  released   28.0           1  ...   \n",
       "\n",
       "   infection_case_Pilgrimage to Israel  \\\n",
       "0                                    0   \n",
       "1                                    0   \n",
       "2                                    0   \n",
       "3                                    0   \n",
       "4                                    0   \n",
       "\n",
       "   infection_case_River of Grace Community Church  \\\n",
       "0                                               0   \n",
       "1                                               0   \n",
       "2                                               0   \n",
       "3                                               0   \n",
       "4                                               0   \n",
       "\n",
       "   infection_case_Seongdong-gu APT  infection_case_Shincheonji Church  \\\n",
       "0                                0                                  0   \n",
       "1                                0                                  0   \n",
       "2                                0                                  0   \n",
       "3                                0                                  0   \n",
       "4                                0                                  0   \n",
       "\n",
       "   infection_case_Suyeong-gu Kindergarten  \\\n",
       "0                                       0   \n",
       "1                                       0   \n",
       "2                                       0   \n",
       "3                                       0   \n",
       "4                                       0   \n",
       "\n",
       "   infection_case_contact with patient  infection_case_etc  \\\n",
       "0                                    0                   0   \n",
       "1                                    0                   0   \n",
       "2                                    1                   0   \n",
       "3                                    0                   0   \n",
       "4                                    1                   0   \n",
       "\n",
       "   infection_case_gym facility in Cheonan  \\\n",
       "0                                       0   \n",
       "1                                       0   \n",
       "2                                       0   \n",
       "3                                       0   \n",
       "4                                       0   \n",
       "\n",
       "   infection_case_gym facility in Sejong  infection_case_overseas inflow  \n",
       "0                                      0                               1  \n",
       "1                                      0                               1  \n",
       "2                                      0                               0  \n",
       "3                                      0                               1  \n",
       "4                                      0                               0  \n",
       "\n",
       "[5 rows x 193 columns]"
      ]
     },
     "execution_count": 30,
     "metadata": {},
     "output_type": "execute_result"
    }
   ],
   "source": [
    "features=['sex','age','country','province', 'city','infection_case']\n",
    "dummies=pd.get_dummies(df[features])\n",
    "merged=pd.concat([df,dummies],axis=1)\n",
    "final=merged.drop(['sex','age','country','province', 'city','infection_case'], axis=1)\n",
    "df=final\n",
    "df.head()"
   ]
  },
  {
   "cell_type": "markdown",
   "metadata": {
    "colab_type": "text",
    "id": "0uTSQY_liDHj"
   },
   "source": [
    "### Split the data into test and train subsamples"
   ]
  },
  {
   "cell_type": "code",
   "execution_count": 32,
   "metadata": {
    "colab": {},
    "colab_type": "code",
    "id": "BSkPut0gguds"
   },
   "outputs": [],
   "source": [
    "from sklearn.model_selection import train_test_split\n",
    "\n",
    "# dont forget to define your X and y\n",
    "\n",
    "X= df.drop(['state'],axis=1)\n",
    "y=df['state']\n",
    "X_train, X_test, y_train, y_test = train_test_split(X, y, test_size=.2, random_state=1)\n",
    "X_train = pd.get_dummies(X_train)\n",
    "X_test = pd.get_dummies(X_test)"
   ]
  },
  {
   "cell_type": "markdown",
   "metadata": {
    "colab_type": "text",
    "id": "TcrOg3y7gRtG"
   },
   "source": [
    "### Scale data to prep for model creation"
   ]
  },
  {
   "cell_type": "code",
   "execution_count": 33,
   "metadata": {
    "colab": {},
    "colab_type": "code",
    "id": "IZL-q-KtAYI6"
   },
   "outputs": [],
   "source": [
    "#scale data\n",
    "from sklearn import preprocessing\n",
    "import numpy as np\n",
    "# build scaler based on training data and apply it to test data to then also scale the test data\n",
    "scaler = preprocessing.StandardScaler().fit(X_train)\n",
    "X_train_scaled=scaler.transform(X_train)\n",
    "X_test_scaled=scaler.transform(X_test)"
   ]
  },
  {
   "cell_type": "code",
   "execution_count": 34,
   "metadata": {
    "colab": {},
    "colab_type": "code",
    "id": "ZSOICugNSpOR"
   },
   "outputs": [],
   "source": [
    "from sklearn.metrics import precision_recall_curve\n",
    "from sklearn.metrics import f1_score\n",
    "from sklearn.metrics import auc\n",
    "from sklearn.linear_model import LogisticRegression\n",
    "from matplotlib import pyplot\n",
    "from sklearn.metrics import precision_recall_curve\n",
    "from sklearn.metrics import f1_score\n",
    "from sklearn.metrics import auc\n",
    "from sklearn.linear_model import LogisticRegression\n",
    "from sklearn.metrics import classification_report,confusion_matrix,roc_curve,roc_auc_score\n",
    "from sklearn.metrics import accuracy_score,log_loss\n",
    "from matplotlib import pyplot"
   ]
  },
  {
   "cell_type": "markdown",
   "metadata": {
    "colab_type": "text",
    "id": "vzrLoM58SpOT"
   },
   "source": [
    "### Fit Random Forest Classifier\n",
    "The fit model shows an overall accuracy of 80% which is great and indicates our model was effectively able to identify the status of a patients in the South Korea dataset."
   ]
  },
  {
   "cell_type": "code",
   "execution_count": 35,
   "metadata": {
    "colab": {},
    "colab_type": "code",
    "id": "b9jQyje3SpOU"
   },
   "outputs": [
    {
     "name": "stdout",
     "output_type": "stream",
     "text": [
      "Random Forest: Accuracy=0.865\n",
      "Random Forest: f1-score=0.832\n"
     ]
    }
   ],
   "source": [
    "from sklearn.ensemble import RandomForestClassifier\n",
    "clf = RandomForestClassifier(n_estimators=300, random_state = 1,n_jobs=-1)\n",
    "model_res = clf.fit(X_train_scaled, y_train)\n",
    "y_pred = model_res.predict(X_test_scaled)\n",
    "y_pred_prob = model_res.predict_proba(X_test_scaled)\n",
    "lr_probs = y_pred_prob[:,1]\n",
    "ac = accuracy_score(y_test, y_pred)\n",
    "\n",
    "f1 = f1_score(y_test, y_pred, average='weighted')\n",
    "cm = confusion_matrix(y_test, y_pred)\n",
    "\n",
    "print('Random Forest: Accuracy=%.3f' % (ac))\n",
    "\n",
    "print('Random Forest: f1-score=%.3f' % (f1))"
   ]
  },
  {
   "cell_type": "markdown",
   "metadata": {
    "colab_type": "text",
    "id": "QYdW02QQSpOW"
   },
   "source": [
    "### Create Confusion Matrix Plots\n",
    "Confusion matrices are great ways to review your model performance for a multi-class classification problem. Being able to identify which class the misclassified observations end up in is a great way to determine if you need to build additional features to improve your overall model. In the example below we plot a regular counts confusion matrix as well as a weighted percent confusion matrix. The percent confusion matrix is particulary helpful when you have unbalanced class sizes."
   ]
  },
  {
   "cell_type": "code",
   "execution_count": 36,
   "metadata": {
    "colab": {},
    "colab_type": "code",
    "id": "wSWGVZU6SpOW"
   },
   "outputs": [],
   "source": [
    "class_names=['isolated','released','missing','deceased'] # name  of classes"
   ]
  },
  {
   "cell_type": "code",
   "execution_count": 37,
   "metadata": {
    "colab": {},
    "colab_type": "code",
    "id": "GjnV5ugJSpOb",
    "scrolled": true
   },
   "outputs": [
    {
     "name": "stdout",
     "output_type": "stream",
     "text": [
      "Confusion matrix, without normalization\n",
      "[[  6   1   0]\n",
      " [  0 363   5]\n",
      " [  0  54  15]]\n",
      "Normalized confusion matrix\n",
      "[[0.86 0.14 0.  ]\n",
      " [0.   0.99 0.01]\n",
      " [0.   0.78 0.22]]\n"
     ]
    },
    {
     "data": {
      "image/png": "[encoded data removed]",
      "text/plain": [
       "<Figure size 432x288 with 2 Axes>"
      ]
     },
     "metadata": {
      "needs_background": "light"
     },
     "output_type": "display_data"
    },
    {
     "data": {
      "image/png": "[encoded data removed]",
      "text/plain": [
       "<Figure size 432x288 with 2 Axes>"
      ]
     },
     "metadata": {
      "needs_background": "light"
     },
     "output_type": "display_data"
    }
   ],
   "source": [
    "import itertools\n",
    "import numpy as np\n",
    "import matplotlib.pyplot as plt\n",
    "\n",
    "from sklearn import svm, datasets\n",
    "from sklearn.model_selection import train_test_split\n",
    "from sklearn.metrics import confusion_matrix\n",
    "\n",
    "def plot_confusion_matrix(cm, classes,\n",
    "                          normalize=False,\n",
    "                          title='Confusion matrix',\n",
    "                          cmap=plt.cm.Blues):\n",
    "    \"\"\"\n",
    "    This function prints and plots the confusion matrix.\n",
    "    Normalization can be applied by setting `normalize=True`.\n",
    "    \"\"\"\n",
    "    if normalize:\n",
    "        cm = cm.astype('float') / cm.sum(axis=1)[:, np.newaxis]\n",
    "        print(\"Normalized confusion matrix\")\n",
    "    else:\n",
    "        print('Confusion matrix, without normalization')\n",
    "\n",
    "    print(cm)\n",
    "\n",
    "    plt.imshow(cm, interpolation='nearest', cmap=cmap)\n",
    "    plt.title(title)\n",
    "    plt.colorbar()\n",
    "    tick_marks = np.arange(len(classes))\n",
    "    plt.xticks(tick_marks, classes, rotation=45)\n",
    "    plt.yticks(tick_marks, classes)\n",
    "\n",
    "    fmt = '.2f' if normalize else 'd'\n",
    "    thresh = cm.max() / 2.\n",
    "    for i, j in itertools.product(range(cm.shape[0]), range(cm.shape[1])):\n",
    "        plt.text(j, i, format(cm[i, j], fmt),\n",
    "                 horizontalalignment=\"center\",\n",
    "                 color=\"white\" if cm[i, j] > thresh else \"black\")\n",
    "\n",
    "    plt.ylabel('True label')\n",
    "    plt.xlabel('Predicted label')\n",
    "    plt.tight_layout()\n",
    "\n",
    "\n",
    "# Compute confusion matrix\n",
    "cnf_matrix = confusion_matrix(y_test, y_pred)\n",
    "np.set_printoptions(precision=2)\n",
    "\n",
    "# Plot non-normalized confusion matrix\n",
    "plt.figure()\n",
    "plot_confusion_matrix(cnf_matrix, classes=class_names,\n",
    "                      title='Confusion matrix, without normalization')\n",
    "#plt.savefig('figures/RF_cm_multi_class.png')\n",
    "\n",
    "# Plot normalized confusion matrix\n",
    "plt.figure()\n",
    "plot_confusion_matrix(cnf_matrix, classes=class_names, normalize=True,\n",
    "                      title='Normalized confusion matrix')\n",
    "#plt.savefig('figures/RF_cm_proportion_multi_class.png', bbox_inches=\"tight\")\n",
    "plt.show()"
   ]
  },
  {
   "cell_type": "markdown",
   "metadata": {
    "colab_type": "text",
    "id": "Z7PtbV4LSpOc"
   },
   "source": [
    "### Plot feature importances\n",
    "The random forest algorithm can be used as a regression or classification model. In either case it tends to be a bit of a black box, where understanding what's happening under the hood can be difficult. Plotting the feature importances is one way that you can gain a perspective on which features are driving the model predictions."
   ]
  },
  {
   "cell_type": "code",
   "execution_count": 38,
   "metadata": {
    "colab": {},
    "colab_type": "code",
    "id": "T1xpGOCVSpOc"
   },
   "outputs": [
    {
     "name": "stdout",
     "output_type": "stream",
     "text": [
      "30\n"
     ]
    },
    {
     "data": {
      "image/png": "[encoded data removed]",
      "text/plain": [
       "<Figure size 720x720 with 1 Axes>"
      ]
     },
     "metadata": {
      "needs_background": "light"
     },
     "output_type": "display_data"
    }
   ],
   "source": [
    "feature_importance = clf.feature_importances_\n",
    "# make importances relative to max importance\n",
    "feature_importance = 100.0 * (feature_importance / feature_importance.max())[:30]\n",
    "sorted_idx = np.argsort(feature_importance)[:30]\n",
    "\n",
    "pos = np.arange(sorted_idx.shape[0]) + .5\n",
    "print(pos.size)\n",
    "sorted_idx.size\n",
    "plt.figure(figsize=(10,10))\n",
    "plt.barh(pos, feature_importance[sorted_idx], align='center')\n",
    "plt.yticks(pos, X.columns[sorted_idx])\n",
    "plt.xlabel('Relative Importance')\n",
    "plt.title('Variable Importance')\n",
    "plt.show()"
   ]
  },
  {
   "cell_type": "markdown",
   "metadata": {
    "colab_type": "text",
    "id": "Ys_mI5GsSpOe"
   },
   "source": [
    "The popularity of random forest is primarily due to how well it performs in a multitude of data situations. It tends to handle highly correlated features well, where as a linear regression model would not. In this case study we demonstrate the performance ability even with only a few features and almost all of them being highly correlated with each other.\n",
    "Random Forest is also used as an efficient way to investigate the importance of a set of features with a large data set. Consider random forest to be one of your first choices when building a decision tree, especially for multiclass classifications."
   ]
  }
 ],
 "metadata": {
  "colab": {
   "collapsed_sections": [
    "FXGd_NbdB5kn"
   ],
   "name": "RandomForest_casestudy_covid19.ipynb",
   "provenance": []
  },
  "kernelspec": {
   "display_name": "Python 3",
   "language": "python",
   "name": "python3"
  },
  "language_info": {
   "codemirror_mode": {
    "name": "ipython",
    "version": 3
   },
   "file_extension": ".py",
   "mimetype": "text/x-python",
   "name": "python",
   "nbconvert_exporter": "python",
   "pygments_lexer": "ipython3",
   "version": "3.7.7"
  }
 },
 "nbformat": 4,
 "nbformat_minor": 4
}
